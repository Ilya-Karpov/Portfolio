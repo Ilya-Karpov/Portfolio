{
 "cells": [
  {
   "cell_type": "code",
   "execution_count": 21,
   "id": "1da8731f",
   "metadata": {},
   "outputs": [],
   "source": [
    "import torch\n",
    "import torchvision.datasets as datasets\n",
    "import torchvision.transforms as transforms\n",
    "from torch.utils.data import DataLoader\n",
    "import torchvision.models\n",
    "import torch.nn as nn\n",
    "import torch.optim as optim\n",
    "from tqdm import tqdm\n",
    "import torch.nn.functional as F\n",
    "import matplotlib.pyplot as plt\n",
    "from random import randint, normalvariate\n",
    "import matplotlib.pyplot as plt\n",
    "from numpy import argmax\n",
    "\n",
    "device = 'cuda' if torch.cuda.is_available() else 'cpu'"
   ]
  },
  {
   "cell_type": "markdown",
   "id": "957f9066",
   "metadata": {},
   "source": [
    "### Импорт датасета и предобученной модели"
   ]
  },
  {
   "cell_type": "code",
   "execution_count": 22,
   "id": "9e1586ae",
   "metadata": {},
   "outputs": [
    {
     "name": "stdout",
     "output_type": "stream",
     "text": [
      "Files already downloaded and verified\n",
      "Files already downloaded and verified\n"
     ]
    }
   ],
   "source": [
    "train_trans = transforms.Compose([\n",
    "    transforms.RandomCrop(32, padding=4),\n",
    "    transforms.RandomHorizontalFlip(),\n",
    "    transforms.ToTensor(),\n",
    "    transforms.Normalize((0.491, 0.482, 0.447), (0.247, 0.243, 0.262))\n",
    "])\n",
    "test_trans = transforms.Compose([\n",
    "    transforms.Resize(32),\n",
    "    transforms.ToTensor(),\n",
    "    transforms.Normalize((0.491, 0.482, 0.447), (0.247, 0.243, 0.262))\n",
    "])\n",
    "\n",
    "dataset = datasets.CIFAR10(root='./data', download=True,\n",
    "                         transform=train_trans)\n",
    "test_data = datasets.CIFAR10(root='./data', download=True,\n",
    "                           train=False, transform=test_trans)"
   ]
  },
  {
   "cell_type": "code",
   "execution_count": 23,
   "id": "b7741266",
   "metadata": {},
   "outputs": [],
   "source": [
    "ind_2_name = {0 : 'airplane',\n",
    "1 : 'automobile',\n",
    "2 : 'bird',\n",
    "3 : 'cat',\n",
    "4 : 'deer',\n",
    "5 : 'dog',\n",
    "6 : 'frog',\n",
    "7 : 'horse',\n",
    "8 : 'ship',\n",
    "9 : 'truck'}"
   ]
  },
  {
   "cell_type": "code",
   "execution_count": 24,
   "id": "e92db885",
   "metadata": {},
   "outputs": [],
   "source": [
    "train_loader = DataLoader(dataset, batch_size=64, shuffle=True, num_workers=4)\n",
    "test_loader = DataLoader(test_data, batch_size=64, num_workers=4)"
   ]
  },
  {
   "cell_type": "code",
   "execution_count": 25,
   "id": "2663f537",
   "metadata": {},
   "outputs": [],
   "source": [
    "net = torchvision.models.squeezenet1_0(pretrained=True)"
   ]
  },
  {
   "cell_type": "code",
   "execution_count": 26,
   "id": "7b6d1d94",
   "metadata": {},
   "outputs": [],
   "source": [
    "new_features = nn.Sequential(*[nn.Conv2d(3, 96, kernel_size=3), nn.ReLU()]+list(net.features.children())[3:-2])\n",
    "net.features = new_features\n",
    "\n",
    "net.classifier = nn.Sequential(\n",
    "    nn.Conv2d(512, 10, kernel_size=1),\n",
    "    nn.ReLU(inplace=True),\n",
    "    nn.AdaptiveAvgPool2d((1,1)))\n",
    "\n",
    "net.num_classes = 10"
   ]
  },
  {
   "cell_type": "code",
   "execution_count": 27,
   "id": "ff366d07",
   "metadata": {},
   "outputs": [
    {
     "data": {
      "text/plain": [
       "torch.Size([2, 512, 15, 15])"
      ]
     },
     "execution_count": 27,
     "metadata": {},
     "output_type": "execute_result"
    }
   ],
   "source": [
    "ex =  torch.randn(2, 3, 32, 32)\n",
    "net.features(ex).shape"
   ]
  },
  {
   "cell_type": "code",
   "execution_count": 28,
   "id": "2eebdda6",
   "metadata": {},
   "outputs": [
    {
     "data": {
      "text/plain": [
       "torch.Size([2, 10])"
      ]
     },
     "execution_count": 28,
     "metadata": {},
     "output_type": "execute_result"
    }
   ],
   "source": [
    "ex =  torch.randn(2, 3, 32, 32)\n",
    "net(ex).shape"
   ]
  },
  {
   "cell_type": "code",
   "execution_count": 29,
   "id": "de06ba90",
   "metadata": {},
   "outputs": [],
   "source": [
    "criterion = nn.CrossEntropyLoss()\n",
    "optimizer = optim.Adam(net.parameters(), lr=1e-4)\n",
    "net = net.to(device)"
   ]
  },
  {
   "cell_type": "code",
   "execution_count": 30,
   "id": "6980b393",
   "metadata": {},
   "outputs": [
    {
     "name": "stdout",
     "output_type": "stream",
     "text": [
      "torch.Size([96, 3, 3, 3])\n"
     ]
    }
   ],
   "source": [
    "for i, p in enumerate(net.features.parameters()):\n",
    "    if i == 0:\n",
    "        print(p.shape)\n",
    "        p.requires_grad = True\n",
    "    p.requires_grad = True"
   ]
  },
  {
   "cell_type": "markdown",
   "id": "4f0852ae",
   "metadata": {},
   "source": [
    "### Учим модель"
   ]
  },
  {
   "cell_type": "code",
   "execution_count": 31,
   "id": "abe9c31b",
   "metadata": {},
   "outputs": [
    {
     "name": "stderr",
     "output_type": "stream",
     "text": [
      "loss 1.21: 100%|█████████████████████████████████████████████████████████████████████| 782/782 [00:40<00:00, 19.35it/s]\n",
      "loss 1.08: 100%|█████████████████████████████████████████████████████████████████████| 782/782 [00:36<00:00, 21.65it/s]\n",
      "loss 0.79: 100%|█████████████████████████████████████████████████████████████████████| 782/782 [00:36<00:00, 21.64it/s]\n",
      "loss 0.70: 100%|█████████████████████████████████████████████████████████████████████| 782/782 [00:36<00:00, 21.65it/s]\n",
      "loss 0.67: 100%|█████████████████████████████████████████████████████████████████████| 782/782 [00:36<00:00, 21.62it/s]\n",
      "loss 0.68: 100%|█████████████████████████████████████████████████████████████████████| 782/782 [00:36<00:00, 21.48it/s]\n",
      "loss 0.70: 100%|█████████████████████████████████████████████████████████████████████| 782/782 [00:36<00:00, 21.69it/s]\n",
      "loss 0.49: 100%|█████████████████████████████████████████████████████████████████████| 782/782 [00:36<00:00, 21.71it/s]\n",
      "loss 0.56: 100%|█████████████████████████████████████████████████████████████████████| 782/782 [00:36<00:00, 21.64it/s]\n",
      "loss 0.37: 100%|█████████████████████████████████████████████████████████████████████| 782/782 [00:36<00:00, 21.43it/s]\n"
     ]
    }
   ],
   "source": [
    "for epoch in range(10):\n",
    "    reporter = tqdm(enumerate(train_loader, 0), total=len(train_loader))\n",
    "    \n",
    "    for i, data in reporter:\n",
    "        inputs, targets = data[0].to(device), data[1].to(device)\n",
    "        predictions = net(inputs)\n",
    "        loss = criterion(predictions, targets)\n",
    "\n",
    "        optimizer.zero_grad()\n",
    "        loss.backward()\n",
    "        optimizer.step()\n",
    "    \n",
    "        if i % 50 == 0:\n",
    "            cur_loss = loss.item()\n",
    "            reporter.set_description('loss %.2f'%cur_loss)"
   ]
  },
  {
   "cell_type": "markdown",
   "id": "98596f62",
   "metadata": {},
   "source": [
    "### Проверяем качество модели"
   ]
  },
  {
   "cell_type": "code",
   "execution_count": 32,
   "id": "8157c1c9",
   "metadata": {},
   "outputs": [
    {
     "name": "stderr",
     "output_type": "stream",
     "text": [
      "100%|████████████████████████████████████████████████████████████████████████████████| 157/157 [00:03<00:00, 46.99it/s]"
     ]
    },
    {
     "name": "stdout",
     "output_type": "stream",
     "text": [
      "\n",
      "Test accuracy: 82.35%\n"
     ]
    },
    {
     "name": "stderr",
     "output_type": "stream",
     "text": [
      "\n"
     ]
    }
   ],
   "source": [
    "reporter2 = tqdm(enumerate(test_loader), total=len(test_loader))\n",
    "\n",
    "total_examples = len(test_loader.dataset)\n",
    "num_matches = 0\n",
    "\n",
    "for i, data in reporter2:\n",
    "    with torch.no_grad():\n",
    "        inputs, targets = data[0].to(device), data[1].to(device)\n",
    "        \n",
    "        predictions = net(inputs)\n",
    "        \n",
    "        _, label_predictions = predictions.max(1)\n",
    "        \n",
    "        num_matches += label_predictions.eq(targets).sum().item()\n",
    "        \n",
    "print('\\nTest accuracy: %.2f%%'%(100.*num_matches/total_examples))"
   ]
  },
  {
   "cell_type": "markdown",
   "id": "33e27349",
   "metadata": {},
   "source": [
    "### FGSM атакa"
   ]
  },
  {
   "cell_type": "code",
   "execution_count": 35,
   "id": "1ab2373a",
   "metadata": {},
   "outputs": [],
   "source": [
    "def fgsm_attack(init_input, label, model, eps=1e-3):\n",
    "    # Проводит FGSM атаку на выбранную картинку и модель\n",
    "    true_output = torch.tensor([label]).to(device)\n",
    "    init_input = init_input.to(device)\n",
    "    init_input.requires_grad = True\n",
    "    \n",
    "    init_output = model(init_input)\n",
    "    # Вычисляем лосс и считаем градиент\n",
    "    loss = F.cross_entropy(init_output, true_output)\n",
    "    g = torch.autograd.grad(loss, init_input, allow_unused=True)\n",
    "    \n",
    "    # Делаем шаг FGSM - метода\n",
    "    new_input = init_input + eps * torch.sign(g[0])\n",
    "    \n",
    "    # Получаем новую метку \n",
    "    new_output = model(new_input)\n",
    "    new_output = F.softmax(new_output, dim=1)\n",
    "    new_label = new_output.max(1)[1].item()\n",
    "    confidence = new_output.max(1)[0].item()\n",
    "    return new_input.cpu(), new_label, 100. * confidence"
   ]
  },
  {
   "cell_type": "code",
   "execution_count": 36,
   "id": "1d0e6b02",
   "metadata": {},
   "outputs": [
    {
     "data": {
      "image/png": "[encoded data removed]",
      "text/plain": [
       "<Figure size 1500x500 with 3 Axes>"
      ]
     },
     "metadata": {},
     "output_type": "display_data"
    }
   ],
   "source": [
    "def get_img(batch_tensor):\n",
    "# Переводит тензор обратно в картинку    \n",
    "    inverse_transform = transforms.Normalize(\n",
    "        (-0.491/0.247, -0.482/0.243, -0.447/0.262),\n",
    "        (1/0.247, 1/0.243, 1/0.262)\n",
    "    )\n",
    "    if batch_tensor.shape[0] == 3:\n",
    "        res = inverse_transform(batch_tensor.clone())\n",
    "    else:\n",
    "        res = inverse_transform(batch_tensor[0].clone())\n",
    "    res = torch.clamp(res, 0, 1)\n",
    "    return res.detach().cpu().squeeze().permute(1, 2, 0).numpy()\n",
    "\n",
    "r_ind = randint(0, len(test_loader.dataset))\n",
    "\n",
    "init_tensor = test_loader.dataset[r_ind][0].unsqueeze(0)\n",
    "init_label = test_loader.dataset[r_ind][1]\n",
    "init_class = ind_2_name[init_label]\n",
    "init_img = get_img(init_tensor)\n",
    "\n",
    "EPS = 0.15\n",
    "adv_tensor, adv_label, conf = fgsm_attack(init_tensor, init_label, net, EPS)\n",
    "adv_class = ind_2_name[adv_label]\n",
    "adv_img = get_img(adv_tensor)\n",
    "\n",
    "diff_img = get_img((adv_tensor - init_tensor) / EPS)\n",
    "\n",
    "plt.figure(figsize=(15,5))\n",
    "\n",
    "plt.subplot(131)\n",
    "plt.title('Init class: ' + init_class)\n",
    "plt.imshow(init_img)\n",
    "plt.axis('off')\n",
    "\n",
    "plt.subplot(132)\n",
    "plt.title('+ %.3fx'%EPS)\n",
    "plt.imshow(diff_img)\n",
    "plt.axis('off')\n",
    "\n",
    "plt.subplot(133)\n",
    "plt.title('= Adv class: %s (confidence: %.1f%%)'%(adv_class, conf))\n",
    "plt.imshow(adv_img)\n",
    "plt.axis('off')\n",
    "\n",
    "plt.show()"
   ]
  },
  {
   "cell_type": "markdown",
   "id": "39f18aaa",
   "metadata": {},
   "source": [
    "### OnePixel атака"
   ]
  },
  {
   "cell_type": "code",
   "execution_count": 39,
   "id": "5fb66d36",
   "metadata": {},
   "outputs": [],
   "source": [
    "def init_population(bounds, popsize):\n",
    "    population = []\n",
    "    for _ in range(0, popsize):\n",
    "        rand_x = randint(bounds[0], bounds[1])\n",
    "        rand_y = randint(bounds[0], bounds[1])\n",
    "        \n",
    "        rand_r = normalvariate(0, 1)\n",
    "        rand_g = normalvariate(0, 1)\n",
    "        rand_b = normalvariate(0, 1)\n",
    "        \n",
    "        population += [(rand_x, rand_y,\n",
    "                        torch.tensor([rand_r, rand_g, rand_b])\n",
    "                       )]\n",
    "    return population\n",
    "\n",
    "def score_population(population, init_input, label, model):\n",
    "    population_scores = []\n",
    "    true_output = torch.tensor([label]).to(device)\n",
    "    init_input = init_input.to(device)\n",
    "    \n",
    "    for cell in population:\n",
    "        cell_input = init_input.clone()\n",
    "        cell_input[0, :, cell[0], cell[1]] = cell[2]\n",
    "        \n",
    "        cell_output = model(cell_input)\n",
    "        cell_loss = F.cross_entropy(cell_output, true_output).item()\n",
    "        \n",
    "        population_scores += [cell_loss]\n",
    "    \n",
    "    return population_scores\n",
    "\n",
    "def recombine_population(population, F=0.5):\n",
    "    children_population = []\n",
    "    for _ in range(0, len(population)):\n",
    "        r_1 = randint(0, len(population)-1)\n",
    "        r_2 = randint(0, len(population)-1)\n",
    "        r_3 = randint(0, len(population)-1)\n",
    "        \n",
    "        new_x = int(population[r_1][0] + F * (population[r_2][0]- population[r_3][0]))\n",
    "        new_x = max(0, min(new_x, 31))\n",
    "        new_y = int(population[r_1][1] + F * (population[r_2][1]- population[r_3][1]))\n",
    "        new_y = max(0, min(new_y, 31))\n",
    "        \n",
    "        new_rgb = population[r_1][2] + F * (population[r_2][2] - population[r_3][2])\n",
    "        children_population += [(new_x, new_y, new_rgb)]\n",
    "    return children_population\n",
    "\n",
    "# Проводит OnePixel атаку на выбранную картинку и модель\n",
    "def one_pixel_attack(best_cell, init_input, label, model):\n",
    "    true_output = torch.tensor([label]).to(device)\n",
    "    init_input = init_input.to(device)\n",
    "    \n",
    "    cell_input = init_input.clone()\n",
    "    cell_input[0, :, best_cell[0], best_cell[1]] = best_cell[2]\n",
    "    \n",
    "    cell_output = model(cell_input)\n",
    "    cell_output = F.softmax(cell_output, dim=1)\n",
    "    new_label = cell_output.max(1)[1].item()\n",
    "    confidence = cell_output.max(1)[0].item()\n",
    "    \n",
    "    return cell_input.cpu(), new_label, 100.*confidence\n",
    "\n",
    "def evolve(population, init_input, label, model, n_steps=100, F=0.5):\n",
    "    old_population = population\n",
    "    old_scores = score_population(population, init_input, label, model)\n",
    "    \n",
    "    new_population = []\n",
    "    new_scores = []\n",
    "    for step in tqdm(range(n_steps)):\n",
    "        new_population = recombine_population(old_population, F)\n",
    "        new_scores = score_population(new_population, init_input, label, model)\n",
    "        \n",
    "        for i in range(len(new_population)):\n",
    "            if new_scores[i] < old_scores[i]:\n",
    "                new_population[i] = old_population[i]\n",
    "        old_population = new_population\n",
    "        old_scores = new_scores\n",
    "    \n",
    "    return old_population, old_scores\n",
    "\n",
    "population = init_population((0, 31), 400)"
   ]
  },
  {
   "cell_type": "code",
   "execution_count": 40,
   "id": "fa7a456a",
   "metadata": {},
   "outputs": [
    {
     "name": "stderr",
     "output_type": "stream",
     "text": [
      "100%|██████████████████████████████████████████████████████████████████████████████████| 50/50 [01:12<00:00,  1.44s/it]"
     ]
    },
    {
     "name": "stdout",
     "output_type": "stream",
     "text": [
      "CPU times: total: 1min 9s\n",
      "Wall time: 1min 13s\n"
     ]
    },
    {
     "name": "stderr",
     "output_type": "stream",
     "text": [
      "\n"
     ]
    }
   ],
   "source": [
    "%%time\n",
    "\n",
    "population, scores = evolve(population, init_tensor, init_label, net, n_steps=50)"
   ]
  },
  {
   "cell_type": "code",
   "execution_count": 41,
   "id": "d9199e73",
   "metadata": {},
   "outputs": [
    {
     "data": {
      "image/png": "[encoded data removed]",
      "text/plain": [
       "<Figure size 1500x500 with 3 Axes>"
      ]
     },
     "metadata": {},
     "output_type": "display_data"
    }
   ],
   "source": [
    "best_cell = population[argmax(scores)]\n",
    "\n",
    "adv_tensor, adv_label, conf = one_pixel_attack(best_cell, init_tensor, init_label, net)\n",
    "adv_class = ind_2_name[adv_label]\n",
    "adv_img = get_img(adv_tensor)\n",
    "\n",
    "diff_img = get_img((adv_tensor - init_tensor) / EPS)\n",
    "\n",
    "plt.figure(figsize=(15,5))\n",
    "\n",
    "plt.subplot(131)\n",
    "plt.title('Init class: ' + init_class)\n",
    "plt.imshow(init_img)\n",
    "plt.axis('off')\n",
    "\n",
    "plt.subplot(132)\n",
    "plt.title('+ one pixel')\n",
    "plt.imshow(diff_img)\n",
    "plt.axis('off')\n",
    "\n",
    "plt.subplot(133)\n",
    "plt.title('= Adv class: %s (confidence: %.1f%%)'%(adv_class, conf))\n",
    "plt.imshow(adv_img)\n",
    "plt.axis('off')\n",
    "\n",
    "plt.show()"
   ]
  }
 ],
 "metadata": {
  "kernelspec": {
   "display_name": "Python 3 (ipykernel)",
   "language": "python",
   "name": "python3"
  },
  "language_info": {
   "codemirror_mode": {
    "name": "ipython",
    "version": 3
   },
   "file_extension": ".py",
   "mimetype": "text/x-python",
   "name": "python",
   "nbconvert_exporter": "python",
   "pygments_lexer": "ipython3",
   "version": "3.10.9"
  }
 },
 "nbformat": 4,
 "nbformat_minor": 5
}
